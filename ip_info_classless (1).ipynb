{
 "cells": [
  {
   "cell_type": "code",
   "execution_count": 16,
   "id": "b9c9cfa6",
   "metadata": {},
   "outputs": [
    {
     "name": "stdout",
     "output_type": "stream",
     "text": [
      "Enter IP address: 11.89.34.67\n",
      "Enter CIDR notation: 23\n",
      "Mask in Decimal: 255.255.254.0\n",
      "No of IP Addresses in Block: 512\n",
      "First IP: 11.89.34.1\n",
      "Last IP: 11.89.34.510\n",
      "Network Address: 11.89.34.0\n"
     ]
    }
   ],
   "source": [
    "# Private Address Space\n",
    "private_addresses = [\n",
    "    \"10.0.0.0/8 (10.0.0.0 - 10.255.255.255)\",\n",
    "    \"172.16.0.0/12 (172.16.0.0 - 172.31.255.255)\",\n",
    "    \"192.168.0.0/16 (192.168.0.0 - 192.168.255.255)\"\n",
    "]\n",
    "\n",
    "# Loopback Address\n",
    "loopback_address = \"127/8 (127..1 - 127..255)\"\n",
    "\n",
    "# Link-local Address\n",
    "link_local_address = \"169..254/16 (169..254 - 169..254)\"\n",
    "\n",
    "# Reserved Addresses\n",
    "reserved_addresses_info = \"Reserved addresses within each subnet for special purposes\"\n",
    "\n",
    "def is_reserved_address(ip):\n",
    "    # Check if IP address falls within reserved addresses\n",
    "    if ip.startswith(\"10.\") or ip.startswith(\"172.\") or ip.startswith(\"192.\") or ip.startswith(\"127.\") or ip.startswith(\"169\"):\n",
    "        print(\"The IP address is a reserved address and cannot be used.\")\n",
    "        return True\n",
    "    return False\n",
    "\n",
    "def calculate_network_info(ip, cidr):\n",
    "    if is_reserved_address(ip):\n",
    "        \n",
    "        return\n",
    "    \n",
    "    # Calculate subnet mask and other network information\n",
    "    subnet_mask_binary = \"1\" * cidr + \"0\" * (32 - cidr)  \n",
    "    subnet_mask_parts = [int(subnet_mask_binary[i:i+8], 2) for i in range(0, 32, 8)] \n",
    "    subnet_mask = \".\".join(map(str, subnet_mask_parts))  \n",
    "    \n",
    "    num_ips = 2 ** (32 - cidr)\n",
    "\n",
    "    ip_parts = list(map(int, ip.split(\".\")))\n",
    "    network_address_parts = [str(ip_parts[i] & int(subnet_mask.split(\".\")[i])) for i in range(4)]\n",
    "    network_address = \".\".join(network_address_parts)\n",
    "\n",
    "    first_ip_parts = list(network_address_parts)\n",
    "    first_ip_parts[3] = str(int(first_ip_parts[3]) + 1)\n",
    "    \n",
    "    last_ip_parts = list(network_address_parts)\n",
    "    last_ip_parts[3] = str(int(last_ip_parts[3]) + num_ips - 2)\n",
    "\n",
    "    # Print network information\n",
    "    print(\"Mask in Decimal:\", subnet_mask)\n",
    "    print(\"No of IP Addresses in Block:\", num_ips)\n",
    "    print(\"First IP:\", \".\".join(first_ip_parts))\n",
    "    print(\"Last IP:\", \".\".join(last_ip_parts))\n",
    "    print(\"Network Address:\", network_address)\n",
    "\n",
    "# Get input from the user \n",
    "ip_address=input(\"Enter IP address: \")\n",
    "cidr_notation=int(input(\"Enter CIDR notation: \"))\n",
    "calculate_network_info(ip_address,cidr_notation)\n"
   ]
  },
  {
   "cell_type": "code",
   "execution_count": null,
   "id": "afe594eb",
   "metadata": {},
   "outputs": [],
   "source": []
  }
 ],
 "metadata": {
  "kernelspec": {
   "display_name": "Python 3 (ipykernel)",
   "language": "python",
   "name": "python3"
  },
  "language_info": {
   "codemirror_mode": {
    "name": "ipython",
    "version": 3
   },
   "file_extension": ".py",
   "mimetype": "text/x-python",
   "name": "python",
   "nbconvert_exporter": "python",
   "pygments_lexer": "ipython3",
   "version": "3.11.5"
  }
 },
 "nbformat": 4,
 "nbformat_minor": 5
}
