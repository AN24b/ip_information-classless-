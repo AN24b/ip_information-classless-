{
 "cells": [
  {
   "cell_type": "code",
   "execution_count": 4,
   "id": "1f24b692",
   "metadata": {},
   "outputs": [
    {
     "name": "stdout",
     "output_type": "stream",
     "text": [
      "Enter IP address (e.g., 192.168.1.0): 192.168.1.0\n",
      "Enter CIDR notation (e.g., 24): 12\n",
      "Mask in Decimal: 255.240.0.0\n",
      "No of IP Addresses in Block: 1048576\n",
      "First IP: 192.160.0.1\n",
      "Last IP: 192.175.255.254\n",
      "Network Address: 192.160.0.0\n"
     ]
    }
   ],
   "source": [
    "import ipaddress\n",
    "\n",
    "def calculate_network_info(ip, cidr):\n",
    "    # Parse the IP address and CIDR notation\n",
    "    network = ipaddress.ip_network(ip + '/' + str(cidr), strict=False)\n",
    "\n",
    "    # Extract information\n",
    "    subnet_mask = str(network.netmask)\n",
    "    num_ips = network.num_addresses\n",
    "    first_ip = str(network.network_address + 1)\n",
    "    last_ip = str(network.broadcast_address - 1)\n",
    "    network_address = str(network.network_address)\n",
    "\n",
    "    # Convert IP addresses to dotted-decimal format\n",
    "    first_ip_parts = [str(int(x)) for x in first_ip.split(\".\")]\n",
    "    last_ip_parts = [str(int(x)) for x in last_ip.split(\".\")]\n",
    "    network_address_parts = [str(int(x)) for x in network_address.split(\".\")]\n",
    "    subnet_mask_parts = [str(int(x)) for x in subnet_mask.split(\".\")]\n",
    "\n",
    "    # Print network information\n",
    "    print(\"Mask in Decimal:\", \".\".join(subnet_mask_parts))\n",
    "    print(\"No of IP Addresses in Block:\", num_ips)\n",
    "    print(\"First IP:\", \".\".join(first_ip_parts))\n",
    "    print(\"Last IP:\", \".\".join(last_ip_parts))\n",
    "    print(\"Network Address:\", \".\".join(network_address_parts))\n",
    "\n",
    "# Get input from the user\n",
    "ip_address = input(\"Enter IP address (e.g., 192.168.1.0): \")\n",
    "cidr_notation = int(input(\"Enter CIDR notation (e.g., 24): \"))\n",
    "\n",
    "# Call the function with user input\n",
    "calculate_network_info(ip_address, cidr_notation)"
   ]
  },
  {
   "cell_type": "code",
   "execution_count": null,
   "id": "9003c027",
   "metadata": {},
   "outputs": [],
   "source": []
  },
  {
   "cell_type": "code",
   "execution_count": null,
   "id": "11e5ea03",
   "metadata": {},
   "outputs": [],
   "source": []
  }
 ],
 "metadata": {
  "kernelspec": {
   "display_name": "Python 3 (ipykernel)",
   "language": "python",
   "name": "python3"
  },
  "language_info": {
   "codemirror_mode": {
    "name": "ipython",
    "version": 3
   },
   "file_extension": ".py",
   "mimetype": "text/x-python",
   "name": "python",
   "nbconvert_exporter": "python",
   "pygments_lexer": "ipython3",
   "version": "3.11.5"
  }
 },
 "nbformat": 4,
 "nbformat_minor": 5
}
